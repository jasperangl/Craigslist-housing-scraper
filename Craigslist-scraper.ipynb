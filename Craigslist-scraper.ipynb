{
 "cells": [
  {
   "cell_type": "markdown",
   "metadata": {},
   "source": [
    "<center> <h1> Craigslist housing scraper </h1> </center>\n",
    "\n"
   ]
  },
  {
   "cell_type": "markdown",
   "metadata": {},
   "source": [
    "<center> <h3> Jasper Angl </h3></center>"
   ]
  },
  {
   "cell_type": "markdown",
   "metadata": {},
   "source": [
    "<center> <h2> Description </h2> </center>"
   ]
  },
  {
   "cell_type": "markdown",
   "metadata": {},
   "source": [
    "\n",
    "In this small project I created a web scraper that scrapes rental information about appartments and houses in the Boston Area.\n",
    "However, the search could also be modified to any other major area in the United States."
   ]
  },
  {
   "cell_type": "code",
   "execution_count": 1,
   "metadata": {},
   "outputs": [
    {
     "data": {
      "text/plain": [
       "'https://boston.craigslist.org'"
      ]
     },
     "execution_count": 1,
     "metadata": {},
     "output_type": "execute_result"
    }
   ],
   "source": [
    "\"https://boston.craigslist.org\""
   ]
  },
  {
   "cell_type": "code",
   "execution_count": 4,
   "metadata": {},
   "outputs": [
    {
     "data": {
      "text/plain": [
       "'https://newyork.craigslist.org/d/apts-housing-for-rent/search/apa'"
      ]
     },
     "execution_count": 4,
     "metadata": {},
     "output_type": "execute_result"
    }
   ],
   "source": [
    "import urllib.request as urllib\n",
    "from bs4 import BeautifulSoup\n",
    "import pandas as pd\n",
    "\n",
    "# we read in the given url, search through all 'a'-tags on the website and see which one is names the same as our label.\n",
    "# When we find the tag whose name is equal to our label, we get its href and add it to the current URL\n",
    "# This gives us the URL for the specific label that we wanted\n",
    "def get_apts_url_from_cl_url(cl_url, cl_label):\n",
    "    html = urllib.urlopen(cl_url)\n",
    "    soup = BeautifulSoup(html.read())\n",
    "    html.close()\n",
    "    links = soup.find_all('a', href=True)\n",
    "    for link in links:\n",
    "        if link.get_text() == cl_label:\n",
    "            href = link.get(\"href\")\n",
    "            return cl_url + href\n",
    "            \n",
    "\n",
    "get_apts_url_from_cl_url(\"https://newyork.craigslist.org\", \"apts / housing\")"
   ]
  },
  {
   "cell_type": "markdown",
   "metadata": {},
   "source": [
    "<center> <p> I first created a dictionary which will then be transformed into a DataFrame </p></center>"
   ]
  },
  {
   "cell_type": "code",
   "execution_count": 6,
   "metadata": {},
   "outputs": [
    {
     "data": {
      "text/html": [
       "<div>\n",
       "<style scoped>\n",
       "    .dataframe tbody tr th:only-of-type {\n",
       "        vertical-align: middle;\n",
       "    }\n",
       "\n",
       "    .dataframe tbody tr th {\n",
       "        vertical-align: top;\n",
       "    }\n",
       "\n",
       "    .dataframe thead th {\n",
       "        text-align: right;\n",
       "    }\n",
       "</style>\n",
       "<table border=\"1\" class=\"dataframe\">\n",
       "  <thead>\n",
       "    <tr style=\"text-align: right;\">\n",
       "      <th></th>\n",
       "      <th>Rent</th>\n",
       "      <th>Neighborhood</th>\n",
       "      <th>Title</th>\n",
       "      <th>Posting Date</th>\n",
       "      <th>URL</th>\n",
       "    </tr>\n",
       "  </thead>\n",
       "  <tbody>\n",
       "  </tbody>\n",
       "</table>\n",
       "</div>"
      ],
      "text/plain": [
       "Empty DataFrame\n",
       "Columns: [Rent, Neighborhood, Title, Posting Date, URL]\n",
       "Index: []"
      ]
     },
     "execution_count": 6,
     "metadata": {},
     "output_type": "execute_result"
    }
   ],
   "source": [
    "data = {'Rent':[],'Neighborhood':[], 'Title':[], 'Posting Date':[], 'URL':[]}\n",
    "df_rental = pd.DataFrame(data)\n",
    "df_rental"
   ]
  },
  {
   "cell_type": "code",
   "execution_count": 8,
   "metadata": {},
   "outputs": [],
   "source": [
    "# This snippet creates the soup object for my apts/housing section for bostons craigslist\n",
    "url = get_apts_url_from_cl_url(\"https://boston.craigslist.org\", \"apts / housing\")\n",
    "html = urllib.urlopen(url)\n",
    "soup = BeautifulSoup(html.read())\n",
    "html.close()"
   ]
  },
  {
   "cell_type": "markdown",
   "metadata": {},
   "source": [
    "#### This code snippet extracts the 5 different informations mentioned above from the BeautifulSoup object\n"
   ]
  },
  {
   "cell_type": "code",
   "execution_count": 11,
   "metadata": {},
   "outputs": [],
   "source": [
    "# for convenience I have these lists to which I will add each posts wanted content\n",
    "rent = []\n",
    "neighborhood = []\n",
    "title = []\n",
    "posting_date = []\n",
    "URL = []\n",
    "\n",
    "# In general I loop through all 'result-info' paragraphs of the website.\n",
    "# For each paragraph I get the 5 informations I want.from each post.\n",
    "# Each information gets added to its dedicated list.\n",
    "# After looping through all tags every info-list gets added to the corresponding DataFrame column.\n",
    "def get_info_from_cl():\n",
    "    # all the information I'll need is in that paragraph tag\n",
    "    result_info = soup.find_all(\"p\", class_=\"result-info\")\n",
    "    for result in result_info:\n",
    "        post_date = result.time.get(\"title\")\n",
    "        curr_rent = result.findChild(\"span\", class_=\"result-price\").get_text()\n",
    "        # neighborhoods was the only tag not every post had content for\n",
    "        if result.findChild(\"span\", class_=\"result-hood\"):\n",
    "            hood = result.findChild(\"span\", class_=\"result-hood\").get_text()\n",
    "        else: hood = \"N/A\"\n",
    "        curr_title = result.findChild(\"a\").get_text()\n",
    "        url = result.findChild(\"a\").get(\"href\")\n",
    "        rent.append(curr_rent[1:])\n",
    "        neighborhood.append(hood.strip().strip('(').strip(')'))\n",
    "        title.append(curr_title)\n",
    "        posting_date.append(post_date)\n",
    "        URL.append(url)\n",
    "    df_rental['Rent'] = rent\n",
    "    df_rental['Neighborhood'] = neighborhood\n",
    "    df_rental['Title'] = title\n",
    "    df_rental['Posting Date'] = posting_date\n",
    "    df_rental['URL'] = URL\n",
    "    \n",
    "get_info_from_cl()"
   ]
  },
  {
   "cell_type": "code",
   "execution_count": 183,
   "metadata": {},
   "outputs": [
    {
     "data": {
      "text/html": [
       "<div>\n",
       "<style scoped>\n",
       "    .dataframe tbody tr th:only-of-type {\n",
       "        vertical-align: middle;\n",
       "    }\n",
       "\n",
       "    .dataframe tbody tr th {\n",
       "        vertical-align: top;\n",
       "    }\n",
       "\n",
       "    .dataframe thead th {\n",
       "        text-align: right;\n",
       "    }\n",
       "</style>\n",
       "<table border=\"1\" class=\"dataframe\">\n",
       "  <thead>\n",
       "    <tr style=\"text-align: right;\">\n",
       "      <th></th>\n",
       "      <th>Rent</th>\n",
       "      <th>Neighborhood</th>\n",
       "      <th>Title</th>\n",
       "      <th>Posting Date</th>\n",
       "      <th>URL</th>\n",
       "    </tr>\n",
       "  </thead>\n",
       "  <tbody>\n",
       "    <tr>\n",
       "      <td>0</td>\n",
       "      <td>3700</td>\n",
       "      <td>Somerville</td>\n",
       "      <td>Somerville New Construction 2BR Medford St - C...</td>\n",
       "      <td>Sun 26 Jan 02:47:26 PM</td>\n",
       "      <td>https://boston.craigslist.org/gbs/apa/d/cambri...</td>\n",
       "    </tr>\n",
       "    <tr>\n",
       "      <td>1</td>\n",
       "      <td>2700</td>\n",
       "      <td>Cambridge</td>\n",
       "      <td>Modern 1 bdr, Mid Cambridge, hw included, pet ...</td>\n",
       "      <td>Sun 26 Jan 02:43:42 PM</td>\n",
       "      <td>https://boston.craigslist.org/gbs/apa/d/cambri...</td>\n",
       "    </tr>\n",
       "    <tr>\n",
       "      <td>2</td>\n",
       "      <td>1450</td>\n",
       "      <td>Shirley, MA</td>\n",
       "      <td>2-Bedroom Apartment close to TRAIN, PARKS, and...</td>\n",
       "      <td>Sun 26 Jan 02:43:10 PM</td>\n",
       "      <td>https://boston.craigslist.org/nwb/apa/d/devens...</td>\n",
       "    </tr>\n",
       "    <tr>\n",
       "      <td>3</td>\n",
       "      <td>2450</td>\n",
       "      <td>WINTER HILL</td>\n",
       "      <td>HUGE SOMERVILLE TWO BED W/PARKING</td>\n",
       "      <td>Sun 26 Jan 02:41:07 PM</td>\n",
       "      <td>https://boston.craigslist.org/gbs/apa/d/somerv...</td>\n",
       "    </tr>\n",
       "    <tr>\n",
       "      <td>4</td>\n",
       "      <td>1050</td>\n",
       "      <td>Somerville</td>\n",
       "      <td>Bedroom in amazing apartment, all utilities in...</td>\n",
       "      <td>Sun 26 Jan 02:40:08 PM</td>\n",
       "      <td>https://boston.craigslist.org/gbs/apa/d/somerv...</td>\n",
       "    </tr>\n",
       "  </tbody>\n",
       "</table>\n",
       "</div>"
      ],
      "text/plain": [
       "   Rent Neighborhood                                              Title  \\\n",
       "0  3700   Somerville  Somerville New Construction 2BR Medford St - C...   \n",
       "1  2700    Cambridge  Modern 1 bdr, Mid Cambridge, hw included, pet ...   \n",
       "2  1450  Shirley, MA  2-Bedroom Apartment close to TRAIN, PARKS, and...   \n",
       "3  2450  WINTER HILL                  HUGE SOMERVILLE TWO BED W/PARKING   \n",
       "4  1050   Somerville  Bedroom in amazing apartment, all utilities in...   \n",
       "\n",
       "             Posting Date                                                URL  \n",
       "0  Sun 26 Jan 02:47:26 PM  https://boston.craigslist.org/gbs/apa/d/cambri...  \n",
       "1  Sun 26 Jan 02:43:42 PM  https://boston.craigslist.org/gbs/apa/d/cambri...  \n",
       "2  Sun 26 Jan 02:43:10 PM  https://boston.craigslist.org/nwb/apa/d/devens...  \n",
       "3  Sun 26 Jan 02:41:07 PM  https://boston.craigslist.org/gbs/apa/d/somerv...  \n",
       "4  Sun 26 Jan 02:40:08 PM  https://boston.craigslist.org/gbs/apa/d/somerv...  "
      ]
     },
     "execution_count": 183,
     "metadata": {},
     "output_type": "execute_result"
    }
   ],
   "source": [
    "df_rental.head()"
   ]
  },
  {
   "cell_type": "markdown",
   "metadata": {},
   "source": [
    "#### This snippet adds the bed_bath information to the DataFrame\n",
    "This takes a while since we have to crawl into multiple different tabs and have to include a timer to avoid getting banned from the website"
   ]
  },
  {
   "cell_type": "code",
   "execution_count": 92,
   "metadata": {},
   "outputs": [],
   "source": [
    "import time\n",
    "import random\n",
    "\n",
    "bed_bath_list = []\n",
    "size_list = []\n",
    "\n",
    "# I use thr URL list which I created earlier to loop through all the URL's of each post\n",
    "# For each post I create a soup and close the page afterwards.\n",
    "# To find the bed/bath information I go into the 'attrgroup' tag and get the first 'shared-line-bubble' text.\n",
    "# The text gets appended to the bed_bath_list for every URL.\n",
    "# If the tag or information doesn't exist I append \"N/A\" to the bed_bath_list\n",
    "# At the end I use a sleep timer to avoid getting blocked by craigslist\n",
    "for link in URL:\n",
    "    page = urllib.urlopen(link)\n",
    "    page_soup = BeautifulSoup(page.read())\n",
    "    page.close()\n",
    "    \n",
    "    attrgroup = page_soup.find(\"p\", class_=\"attrgroup\")\n",
    "    if attrgroup:\n",
    "        bed_bath = attrgroup.findChild(\"span\", class_=\"shared-line-bubble\")\n",
    "        size = attrgroup.findChild(\"sup\")\n",
    "        if bed_bath and size:\n",
    "            bed_bath_list.append(bed_bath.get_text())\n",
    "            size_in_square_feet = attrgroup.findAll(\"span\", class_=\"shared-line-bubble\")[1].get_text()\n",
    "            size_list.append(size_in_square_feet)\n",
    "        if size and not bed_bath:\n",
    "            size_in_square_feet = attrgroup.findAll(\"span\", class_=\"shared-line-bubble\")[1].get_text()\n",
    "            size_list.append(size_in_square_feet)\n",
    "            bed_bath_list.append(\"N/A\")\n",
    "        if bed_bath and not size:\n",
    "            size_list.append(\"N/A\")\n",
    "            bed_bath_list.append(bed_bath.get_text())\n",
    "        if not bed_bath and not size:\n",
    "            bed_bath_list.append(\"N/A\")\n",
    "            size_list.append(\"N/A\")\n",
    "    else: \n",
    "        bed_bath_list.append(\"N/A\")\n",
    "        size_list.append(\"N/A\")\n",
    "    time.sleep(random.randint(1,2))"
   ]
  },
  {
   "cell_type": "code",
   "execution_count": 93,
   "metadata": {},
   "outputs": [
    {
     "data": {
      "text/html": [
       "<div>\n",
       "<style scoped>\n",
       "    .dataframe tbody tr th:only-of-type {\n",
       "        vertical-align: middle;\n",
       "    }\n",
       "\n",
       "    .dataframe tbody tr th {\n",
       "        vertical-align: top;\n",
       "    }\n",
       "\n",
       "    .dataframe thead th {\n",
       "        text-align: right;\n",
       "    }\n",
       "</style>\n",
       "<table border=\"1\" class=\"dataframe\">\n",
       "  <thead>\n",
       "    <tr style=\"text-align: right;\">\n",
       "      <th></th>\n",
       "      <th>Rent</th>\n",
       "      <th>Neighborhood</th>\n",
       "      <th>Title</th>\n",
       "      <th>Posting Date</th>\n",
       "      <th>URL</th>\n",
       "      <th>Bed/Bath</th>\n",
       "      <th>Size</th>\n",
       "    </tr>\n",
       "  </thead>\n",
       "  <tbody>\n",
       "    <tr>\n",
       "      <td>0</td>\n",
       "      <td>975</td>\n",
       "      <td>whitman</td>\n",
       "      <td>2 bedroom apt</td>\n",
       "      <td>Wed 08 Apr 03:05:57 PM</td>\n",
       "      <td>https://boston.craigslist.org/sob/apa/d/whitma...</td>\n",
       "      <td>2BR / 1Ba</td>\n",
       "      <td>N/A</td>\n",
       "    </tr>\n",
       "    <tr>\n",
       "      <td>1</td>\n",
       "      <td>2100</td>\n",
       "      <td>N/A</td>\n",
       "      <td>HUGE 1 BED HEART OF COOLIDGE CORNER BAY WINDOW...</td>\n",
       "      <td>Wed 08 Apr 03:03:15 PM</td>\n",
       "      <td>https://boston.craigslist.org/gbs/apa/d/brookl...</td>\n",
       "      <td>1BR / 1Ba</td>\n",
       "      <td>500ft2</td>\n",
       "    </tr>\n",
       "    <tr>\n",
       "      <td>2</td>\n",
       "      <td>1500</td>\n",
       "      <td>Allston</td>\n",
       "      <td>SWEET STUDIO! NEAR HARVARD@ COMM!! MODERN SUND...</td>\n",
       "      <td>Wed 08 Apr 03:00:57 PM</td>\n",
       "      <td>https://boston.craigslist.org/gbs/apa/d/brookl...</td>\n",
       "      <td>0BR / 1Ba</td>\n",
       "      <td>N/A</td>\n",
       "    </tr>\n",
       "    <tr>\n",
       "      <td>3</td>\n",
       "      <td>2486</td>\n",
       "      <td>Braintree</td>\n",
       "      <td>Patio/ balcony, Upgraded espresso cabinetry, W...</td>\n",
       "      <td>Wed 08 Apr 02:57:57 PM</td>\n",
       "      <td>https://boston.craigslist.org/sob/apa/d/braint...</td>\n",
       "      <td>2BR / 2Ba</td>\n",
       "      <td>1280ft2</td>\n",
       "    </tr>\n",
       "    <tr>\n",
       "      <td>4</td>\n",
       "      <td>1981</td>\n",
       "      <td>Tewksbury</td>\n",
       "      <td>Built-in desk, Built in computer desk, Poolsid...</td>\n",
       "      <td>Wed 08 Apr 02:54:45 PM</td>\n",
       "      <td>https://boston.craigslist.org/nwb/apa/d/tewksb...</td>\n",
       "      <td>2BR / 2Ba</td>\n",
       "      <td>1177ft2</td>\n",
       "    </tr>\n",
       "    <tr>\n",
       "      <td>...</td>\n",
       "      <td>...</td>\n",
       "      <td>...</td>\n",
       "      <td>...</td>\n",
       "      <td>...</td>\n",
       "      <td>...</td>\n",
       "      <td>...</td>\n",
       "      <td>...</td>\n",
       "    </tr>\n",
       "    <tr>\n",
       "      <td>115</td>\n",
       "      <td>3500</td>\n",
       "      <td>Burbank Area</td>\n",
       "      <td>Beautiful, Renovated Home for Rent in Belmont</td>\n",
       "      <td>Wed 08 Apr 07:37:03 AM</td>\n",
       "      <td>https://boston.craigslist.org/gbs/apa/d/belmon...</td>\n",
       "      <td>2BR / 1Ba</td>\n",
       "      <td>N/A</td>\n",
       "    </tr>\n",
       "    <tr>\n",
       "      <td>116</td>\n",
       "      <td>1895</td>\n",
       "      <td>BEACON STREET AND PARK DRIVE, BOSTON</td>\n",
       "      <td>NO BROKER FEE - UNFURNISHED STUDIO NEAR KENMOR...</td>\n",
       "      <td>Wed 08 Apr 07:27:14 AM</td>\n",
       "      <td>https://boston.craigslist.org/gbs/apa/d/boston...</td>\n",
       "      <td>0BR / 1Ba</td>\n",
       "      <td>N/A</td>\n",
       "    </tr>\n",
       "    <tr>\n",
       "      <td>117</td>\n",
       "      <td>1250</td>\n",
       "      <td>sutherland</td>\n",
       "      <td>condomium</td>\n",
       "      <td>Wed 08 Apr 07:01:26 AM</td>\n",
       "      <td>https://boston.craigslist.org/gbs/apa/d/bright...</td>\n",
       "      <td>585ft2</td>\n",
       "      <td>available apr 8</td>\n",
       "    </tr>\n",
       "    <tr>\n",
       "      <td>118</td>\n",
       "      <td>2200</td>\n",
       "      <td>Boston - South End - Columbus Ave.</td>\n",
       "      <td>South End 1 bed w/ LARGE Pvt. Patio! Avl 5/1</td>\n",
       "      <td>Wed 08 Apr 06:52:15 AM</td>\n",
       "      <td>https://boston.craigslist.org/gbs/apa/d/boston...</td>\n",
       "      <td>1BR / 1Ba</td>\n",
       "      <td>N/A</td>\n",
       "    </tr>\n",
       "    <tr>\n",
       "      <td>119</td>\n",
       "      <td>2000</td>\n",
       "      <td>Brighton</td>\n",
       "      <td>Well-Managed, Updated 2 Bed w/ Parking Include...</td>\n",
       "      <td>Wed 08 Apr 06:24:36 AM</td>\n",
       "      <td>https://boston.craigslist.org/gbs/apa/d/bright...</td>\n",
       "      <td>2BR / 1Ba</td>\n",
       "      <td>N/A</td>\n",
       "    </tr>\n",
       "  </tbody>\n",
       "</table>\n",
       "<p>120 rows × 7 columns</p>\n",
       "</div>"
      ],
      "text/plain": [
       "     Rent                          Neighborhood  \\\n",
       "0     975                               whitman   \n",
       "1    2100                                   N/A   \n",
       "2    1500                               Allston   \n",
       "3    2486                             Braintree   \n",
       "4    1981                             Tewksbury   \n",
       "..    ...                                   ...   \n",
       "115  3500                          Burbank Area   \n",
       "116  1895  BEACON STREET AND PARK DRIVE, BOSTON   \n",
       "117  1250                            sutherland   \n",
       "118  2200    Boston - South End - Columbus Ave.   \n",
       "119  2000                              Brighton   \n",
       "\n",
       "                                                 Title  \\\n",
       "0                                        2 bedroom apt   \n",
       "1    HUGE 1 BED HEART OF COOLIDGE CORNER BAY WINDOW...   \n",
       "2    SWEET STUDIO! NEAR HARVARD@ COMM!! MODERN SUND...   \n",
       "3    Patio/ balcony, Upgraded espresso cabinetry, W...   \n",
       "4    Built-in desk, Built in computer desk, Poolsid...   \n",
       "..                                                 ...   \n",
       "115      Beautiful, Renovated Home for Rent in Belmont   \n",
       "116  NO BROKER FEE - UNFURNISHED STUDIO NEAR KENMOR...   \n",
       "117                                          condomium   \n",
       "118       South End 1 bed w/ LARGE Pvt. Patio! Avl 5/1   \n",
       "119  Well-Managed, Updated 2 Bed w/ Parking Include...   \n",
       "\n",
       "               Posting Date  \\\n",
       "0    Wed 08 Apr 03:05:57 PM   \n",
       "1    Wed 08 Apr 03:03:15 PM   \n",
       "2    Wed 08 Apr 03:00:57 PM   \n",
       "3    Wed 08 Apr 02:57:57 PM   \n",
       "4    Wed 08 Apr 02:54:45 PM   \n",
       "..                      ...   \n",
       "115  Wed 08 Apr 07:37:03 AM   \n",
       "116  Wed 08 Apr 07:27:14 AM   \n",
       "117  Wed 08 Apr 07:01:26 AM   \n",
       "118  Wed 08 Apr 06:52:15 AM   \n",
       "119  Wed 08 Apr 06:24:36 AM   \n",
       "\n",
       "                                                   URL   Bed/Bath  \\\n",
       "0    https://boston.craigslist.org/sob/apa/d/whitma...  2BR / 1Ba   \n",
       "1    https://boston.craigslist.org/gbs/apa/d/brookl...  1BR / 1Ba   \n",
       "2    https://boston.craigslist.org/gbs/apa/d/brookl...  0BR / 1Ba   \n",
       "3    https://boston.craigslist.org/sob/apa/d/braint...  2BR / 2Ba   \n",
       "4    https://boston.craigslist.org/nwb/apa/d/tewksb...  2BR / 2Ba   \n",
       "..                                                 ...        ...   \n",
       "115  https://boston.craigslist.org/gbs/apa/d/belmon...  2BR / 1Ba   \n",
       "116  https://boston.craigslist.org/gbs/apa/d/boston...  0BR / 1Ba   \n",
       "117  https://boston.craigslist.org/gbs/apa/d/bright...     585ft2   \n",
       "118  https://boston.craigslist.org/gbs/apa/d/boston...  1BR / 1Ba   \n",
       "119  https://boston.craigslist.org/gbs/apa/d/bright...  2BR / 1Ba   \n",
       "\n",
       "                Size  \n",
       "0                N/A  \n",
       "1             500ft2  \n",
       "2                N/A  \n",
       "3            1280ft2  \n",
       "4            1177ft2  \n",
       "..               ...  \n",
       "115              N/A  \n",
       "116              N/A  \n",
       "117  available apr 8  \n",
       "118              N/A  \n",
       "119              N/A  \n",
       "\n",
       "[120 rows x 7 columns]"
      ]
     },
     "execution_count": 93,
     "metadata": {},
     "output_type": "execute_result"
    }
   ],
   "source": [
    "df_rental['Bed/Bath'] = bed_bath_list\n",
    "df_rental['Size'] = size_list\n",
    "df_rental"
   ]
  },
  {
   "cell_type": "code",
   "execution_count": 94,
   "metadata": {},
   "outputs": [
    {
     "data": {
      "text/html": [
       "<div>\n",
       "<style scoped>\n",
       "    .dataframe tbody tr th:only-of-type {\n",
       "        vertical-align: middle;\n",
       "    }\n",
       "\n",
       "    .dataframe tbody tr th {\n",
       "        vertical-align: top;\n",
       "    }\n",
       "\n",
       "    .dataframe thead th {\n",
       "        text-align: right;\n",
       "    }\n",
       "</style>\n",
       "<table border=\"1\" class=\"dataframe\">\n",
       "  <thead>\n",
       "    <tr style=\"text-align: right;\">\n",
       "      <th></th>\n",
       "      <th>Rent</th>\n",
       "      <th>Neighborhood</th>\n",
       "      <th>Title</th>\n",
       "      <th>Posting Date</th>\n",
       "      <th>URL</th>\n",
       "      <th>Bed/Bath</th>\n",
       "      <th>Size</th>\n",
       "    </tr>\n",
       "  </thead>\n",
       "  <tbody>\n",
       "    <tr>\n",
       "      <td>0</td>\n",
       "      <td>975</td>\n",
       "      <td>whitman</td>\n",
       "      <td>2 bedroom apt</td>\n",
       "      <td>Wed 08 Apr 03:05:57 PM</td>\n",
       "      <td>https://boston.craigslist.org/sob/apa/d/whitma...</td>\n",
       "      <td>2BR / 1Ba</td>\n",
       "      <td>N/A</td>\n",
       "    </tr>\n",
       "    <tr>\n",
       "      <td>1</td>\n",
       "      <td>2100</td>\n",
       "      <td>N/A</td>\n",
       "      <td>HUGE 1 BED HEART OF COOLIDGE CORNER BAY WINDOW...</td>\n",
       "      <td>Wed 08 Apr 03:03:15 PM</td>\n",
       "      <td>https://boston.craigslist.org/gbs/apa/d/brookl...</td>\n",
       "      <td>1BR / 1Ba</td>\n",
       "      <td>500ft2</td>\n",
       "    </tr>\n",
       "    <tr>\n",
       "      <td>2</td>\n",
       "      <td>1500</td>\n",
       "      <td>Allston</td>\n",
       "      <td>SWEET STUDIO! NEAR HARVARD@ COMM!! MODERN SUND...</td>\n",
       "      <td>Wed 08 Apr 03:00:57 PM</td>\n",
       "      <td>https://boston.craigslist.org/gbs/apa/d/brookl...</td>\n",
       "      <td>0BR / 1Ba</td>\n",
       "      <td>N/A</td>\n",
       "    </tr>\n",
       "    <tr>\n",
       "      <td>3</td>\n",
       "      <td>2486</td>\n",
       "      <td>Braintree</td>\n",
       "      <td>Patio/ balcony, Upgraded espresso cabinetry, W...</td>\n",
       "      <td>Wed 08 Apr 02:57:57 PM</td>\n",
       "      <td>https://boston.craigslist.org/sob/apa/d/braint...</td>\n",
       "      <td>2BR / 2Ba</td>\n",
       "      <td>1280ft2</td>\n",
       "    </tr>\n",
       "    <tr>\n",
       "      <td>4</td>\n",
       "      <td>1981</td>\n",
       "      <td>Tewksbury</td>\n",
       "      <td>Built-in desk, Built in computer desk, Poolsid...</td>\n",
       "      <td>Wed 08 Apr 02:54:45 PM</td>\n",
       "      <td>https://boston.craigslist.org/nwb/apa/d/tewksb...</td>\n",
       "      <td>2BR / 2Ba</td>\n",
       "      <td>1177ft2</td>\n",
       "    </tr>\n",
       "  </tbody>\n",
       "</table>\n",
       "</div>"
      ],
      "text/plain": [
       "   Rent Neighborhood                                              Title  \\\n",
       "0   975      whitman                                      2 bedroom apt   \n",
       "1  2100          N/A  HUGE 1 BED HEART OF COOLIDGE CORNER BAY WINDOW...   \n",
       "2  1500      Allston  SWEET STUDIO! NEAR HARVARD@ COMM!! MODERN SUND...   \n",
       "3  2486    Braintree  Patio/ balcony, Upgraded espresso cabinetry, W...   \n",
       "4  1981    Tewksbury  Built-in desk, Built in computer desk, Poolsid...   \n",
       "\n",
       "             Posting Date                                                URL  \\\n",
       "0  Wed 08 Apr 03:05:57 PM  https://boston.craigslist.org/sob/apa/d/whitma...   \n",
       "1  Wed 08 Apr 03:03:15 PM  https://boston.craigslist.org/gbs/apa/d/brookl...   \n",
       "2  Wed 08 Apr 03:00:57 PM  https://boston.craigslist.org/gbs/apa/d/brookl...   \n",
       "3  Wed 08 Apr 02:57:57 PM  https://boston.craigslist.org/sob/apa/d/braint...   \n",
       "4  Wed 08 Apr 02:54:45 PM  https://boston.craigslist.org/nwb/apa/d/tewksb...   \n",
       "\n",
       "    Bed/Bath     Size  \n",
       "0  2BR / 1Ba      N/A  \n",
       "1  1BR / 1Ba   500ft2  \n",
       "2  0BR / 1Ba      N/A  \n",
       "3  2BR / 2Ba  1280ft2  \n",
       "4  2BR / 2Ba  1177ft2  "
      ]
     },
     "execution_count": 94,
     "metadata": {},
     "output_type": "execute_result"
    }
   ],
   "source": [
    "df_rental.head()"
   ]
  },
  {
   "cell_type": "markdown",
   "metadata": {},
   "source": [
    "<center> <h3> Export to .csv File </h3> </center>\n",
    "<center> Enables data to be represanted and edited in Excel or other table readers </center>"
   ]
  },
  {
   "cell_type": "code",
   "execution_count": 128,
   "metadata": {
    "scrolled": true
   },
   "outputs": [],
   "source": [
    "df_rental.to_csv('df_CraigsList.csv', index=False)"
   ]
  },
  {
   "cell_type": "markdown",
   "metadata": {},
   "source": [
    "<center> <h3> Analyzation of Data </h3> </center>"
   ]
  },
  {
   "cell_type": "code",
   "execution_count": 129,
   "metadata": {},
   "outputs": [],
   "source": [
    "rent_list = [int(rent) for rent in df_rental['Rent']]"
   ]
  },
  {
   "cell_type": "code",
   "execution_count": 130,
   "metadata": {},
   "outputs": [],
   "source": [
    "# Determines how many apartments are in each price range and displays the statistic in a graph\n",
    "def rentalPrizes(list):\n",
    "    rent_ranges = []\n",
    "    n_in_range = []\n",
    "    highest_rent = max(list)\n",
    "    count = 0\n",
    "    while count <= int(highest_rent / 1000):\n",
    "        range_start = count * 1000\n",
    "        range_end = (count + 1) * 1000\n",
    "        rent_ranges.append(str(range_start) + \" - \" +  str(range_end))             \n",
    "        n_at_range = 0\n",
    "        for rent in list:\n",
    "            if rent >= range_start and rent < range_end:\n",
    "                           n_at_range += 1\n",
    "        n_in_range.append(n_at_range)\n",
    "        count += 1\n",
    "        \n",
    "    return rent_ranges, n_in_range\n",
    "rent_ranges, n_in_range = rentalPrizes(rent_list)"
   ]
  },
  {
   "cell_type": "code",
   "execution_count": 131,
   "metadata": {},
   "outputs": [
    {
     "data": {
      "text/plain": [
       "[Text(0, 0, '0 - 1000'),\n",
       " Text(0, 0, '1000 - 2000'),\n",
       " Text(0, 0, '2000 - 3000'),\n",
       " Text(0, 0, '3000 - 4000'),\n",
       " Text(0, 0, '4000 - 5000'),\n",
       " Text(0, 0, '5000 - 6000')]"
      ]
     },
     "execution_count": 131,
     "metadata": {},
     "output_type": "execute_result"
    },
    {
     "data": {
      "image/png": "[encoded data removed]",
      "text/plain": [
       "<Figure size 432x288 with 1 Axes>"
      ]
     },
     "metadata": {
      "needs_background": "light"
     },
     "output_type": "display_data"
    }
   ],
   "source": [
    "import matplotlib.pyplot as plt\n",
    "%matplotlib inline\n",
    "import seaborn as sns\n",
    "\n",
    "graph = sns.barplot(x=rent_ranges, y=n_in_range, color= (130/255, 210/255, 40/255))\n",
    "graph.set_title('Number of Apartments by rent per month', size = 22)\n",
    "graph.set_xlabel(\"Rent per month\", size = 16)\n",
    "graph.set_ylabel(\"# of Apartments\", size = 16)\n",
    "graph.set_xticklabels(graph.get_xticklabels(), rotation=45)"
   ]
  },
  {
   "cell_type": "code",
   "execution_count": 132,
   "metadata": {},
   "outputs": [
    {
     "data": {
      "text/plain": [
       "<matplotlib.axes._subplots.AxesSubplot at 0x2234d320b88>"
      ]
     },
     "execution_count": 132,
     "metadata": {},
     "output_type": "execute_result"
    },
    {
     "data": {
      "image/png": "[encoded data removed]",
      "text/plain": [
       "<Figure size 720x360 with 1 Axes>"
      ]
     },
     "metadata": {
      "needs_background": "light"
     },
     "output_type": "display_data"
    }
   ],
   "source": [
    "import matplotlib.pyplot as plt\n",
    "import seaborn as sns\n",
    "\n",
    "# Compares Rent prices to apartment size\n",
    "plt.figure(figsize=(10, 5))\n",
    "sns.scatterplot(data=df_rental, x='Size', y='Rent', palette='Temperature', legend=False)"
   ]
  }
 ],
 "metadata": {
  "kernelspec": {
   "display_name": "Python 3",
   "language": "python",
   "name": "python3"
  },
  "language_info": {
   "codemirror_mode": {
    "name": "ipython",
    "version": 3
   },
   "file_extension": ".py",
   "mimetype": "text/x-python",
   "name": "python",
   "nbconvert_exporter": "python",
   "pygments_lexer": "ipython3",
   "version": "3.7.4"
  }
 },
 "nbformat": 4,
 "nbformat_minor": 2
}
